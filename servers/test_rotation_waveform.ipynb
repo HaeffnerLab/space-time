{
 "cells": [
  {
   "cell_type": "code",
   "execution_count": 154,
   "metadata": {},
   "outputs": [],
   "source": [
    "import numpy as np\n",
    "import matplotlib.pyplot as plt"
   ]
  },
  {
   "cell_type": "code",
   "execution_count": 155,
   "metadata": {},
   "outputs": [],
   "source": [
    "samp_rate = 1e7"
   ]
  },
  {
   "cell_type": "code",
   "execution_count": 156,
   "metadata": {},
   "outputs": [],
   "source": [
    "def plot_waveform(amp, phase):\n",
    "    time = np.linspace(0, len(amp)/samp_rate, len(amp)) * 1e6\n",
    "    freq = np.diff(phase, prepend=phase[0])*samp_rate / (2*np.pi) * 1e-3\n",
    "\n",
    "    (fig, ax1) = plt.subplots()\n",
    "    ax2 = ax1.twinx()\n",
    "    ax1.plot(time, amp)\n",
    "    ax2.plot(time, freq, color='C1')\n",
    "    ax1.set_xlabel('Time (us)')\n",
    "    ax1.set_ylabel('Relative amplitude')\n",
    "    ax2.set_ylabel('Frequency (kHz)')\n",
    "    plt.show()"
   ]
  },
  {
   "cell_type": "code",
   "execution_count": 157,
   "metadata": {},
   "outputs": [],
   "source": [
    "def linear_spinup__adiabatic_release(start_phase, start_hold, spinup_time, middle_hold, release_time, final_drive_freq):\n",
    "    final_drive_angular_freq = 2*np.pi * final_drive_freq\n",
    "\n",
    "    # Reference times (labelled by the time at which a section begins, NOT by the duration of that section)\n",
    "    t_spinup = start_hold\n",
    "    t_middle = start_hold + spinup_time\n",
    "    t_release = start_hold + spinup_time + middle_hold\n",
    "\n",
    "    # Time array   \n",
    "    total_time = start_hold + spinup_time + middle_hold + release_time\n",
    "    t = np.linspace(0, total_time, int(samp_rate * total_time))\n",
    "    \n",
    "    # Reference regions\n",
    "    spinup_region = (t >= t_spinup) & (t < t_middle)\n",
    "    middle_region = (t >= t_middle) & (t < t_release)\n",
    "    release_region = (t >= t_release)\n",
    "\n",
    "    # Amplitude curve\n",
    "    amplitude_curve = np.ones_like(t)\n",
    "    amplitude_curve[release_region] = 1.0 / (1 + 30.6*(t[release_region] - t_release)/release_time)**2\n",
    "\n",
    "    spinup_end_phase = start_phase + final_drive_angular_freq*spinup_time/2\n",
    "    middle_end_phase = spinup_end_phase + final_drive_angular_freq*middle_hold\n",
    "\n",
    "    # Phase curve\n",
    "    phase_curve = start_phase * np.ones_like(t)\n",
    "    phase_curve[spinup_region] = start_phase + final_drive_angular_freq/(2*spinup_time)*(t[spinup_region] - start_hold)**2\n",
    "    phase_curve[middle_region] = spinup_end_phase + final_drive_angular_freq * (t[middle_region] - t_middle)\n",
    "    phase_curve[release_region] = middle_end_phase + final_drive_angular_freq * (t[release_region] - t_release)\n",
    "    \n",
    "    return amplitude_curve, phase_curve\n"
   ]
  },
  {
   "cell_type": "code",
   "execution_count": 165,
   "metadata": {},
   "outputs": [
    {
     "data": {
      "image/png": "[encoded data removed]",
      "text/plain": [
       "<Figure size 432x288 with 2 Axes>"
      ]
     },
     "metadata": {
      "needs_background": "light"
     },
     "output_type": "display_data"
    }
   ],
   "source": [
    "(amp, phase) = linear_spinup__adiabatic_release(0, 0.2e-3, 80e-6, 50e-6, 500e-6, 150e3)\n",
    "plot_waveform(amp, phase)"
   ]
  }
 ],
 "metadata": {
  "kernelspec": {
   "display_name": "labrad-env",
   "language": "python",
   "name": "python3"
  },
  "language_info": {
   "codemirror_mode": {
    "name": "ipython",
    "version": 2
   },
   "file_extension": ".py",
   "mimetype": "text/x-python",
   "name": "python",
   "nbconvert_exporter": "python",
   "pygments_lexer": "ipython2",
   "version": "2.7.18"
  }
 },
 "nbformat": 4,
 "nbformat_minor": 2
}
