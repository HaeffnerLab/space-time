{
 "cells": [
  {
   "cell_type": "code",
   "execution_count": 2,
   "metadata": {},
   "outputs": [],
   "source": [
    "import fileinput\n",
    "import sys\n",
    "import os"
   ]
  },
  {
   "cell_type": "code",
   "execution_count": 3,
   "metadata": {},
   "outputs": [],
   "source": [
    "def replaceAll(file, searchExp, replaceExp):\n",
    "    for line in fileinput.input(file, inplace=1):\n",
    "        if searchExp in line:\n",
    "            line = line.replace(searchExp,replaceExp)\n",
    "        sys.stdout.write(line)"
   ]
  },
  {
   "cell_type": "code",
   "execution_count": 4,
   "metadata": {},
   "outputs": [
    {
     "data": {
      "text/plain": [
       "['RabiExcitation.py',\n",
       " 'TurnOffAll.py',\n",
       " 'OpticalPumping.py',\n",
       " 'DynamicalDecoupling.py',\n",
       " 'StateReadout.py',\n",
       " '__init__.py',\n",
       " 'SidebandCooling.py',\n",
       " 'DopplerCooling.py',\n",
       " 'StatePreparation.py',\n",
       " 'MotionAnalysis.py',\n",
       " 'RepumpD.py',\n",
       " 'EmptySequence.py',\n",
       " 'RFModulation.py',\n",
       " 'Rotation.py']"
      ]
     },
     "execution_count": 4,
     "metadata": {},
     "output_type": "execute_result"
    }
   ],
   "source": [
    "all_files = os.listdir()\n",
    "all_py_files = [file for file in all_files if file[-3:]=='.py']\n",
    "all_py_files"
   ]
  },
  {
   "cell_type": "code",
   "execution_count": 5,
   "metadata": {},
   "outputs": [],
   "source": [
    "for file in all_py_files:\n",
    "    replaceAll(file, 'common.devel.bum.sequences.pulse_sequence', 'common.abstractdevices.script_scanner2.sequences.pulse_sequence')"
   ]
  }
 ],
 "metadata": {
  "kernelspec": {
   "display_name": "jupyter-env",
   "language": "python",
   "name": "jupyter-env"
  },
  "language_info": {
   "codemirror_mode": {
    "name": "ipython",
    "version": 3
   },
   "file_extension": ".py",
   "mimetype": "text/x-python",
   "name": "python",
   "nbconvert_exporter": "python",
   "pygments_lexer": "ipython3",
   "version": "3.10.6"
  }
 },
 "nbformat": 4,
 "nbformat_minor": 2
}
